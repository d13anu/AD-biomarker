{
 "cells": [
  {
   "cell_type": "code",
   "id": "initial_id",
   "metadata": {
    "collapsed": true,
    "ExecuteTime": {
     "end_time": "2025-05-20T20:40:45.012064Z",
     "start_time": "2025-05-20T20:40:45.009289Z"
    }
   },
   "source": [
    "import numpy as np\n",
    "import pandas as pd"
   ],
   "outputs": [],
   "execution_count": 2
  },
  {
   "metadata": {
    "ExecuteTime": {
     "end_time": "2025-05-20T20:40:58.866782Z",
     "start_time": "2025-05-20T20:40:58.242296Z"
    }
   },
   "cell_type": "code",
   "source": [
    "prot_exp = pd.read_csv('SourceData/prot_exp_data.csv')\n",
    "meta_exp = pd.read_csv('SourceData/meta_exp_data.csv')"
   ],
   "id": "379252278dba72a2",
   "outputs": [],
   "execution_count": 4
  },
  {
   "metadata": {
    "ExecuteTime": {
     "end_time": "2025-05-20T20:44:52.361237Z",
     "start_time": "2025-05-20T20:44:52.357877Z"
    }
   },
   "cell_type": "code",
   "source": "prot_exp.shape",
   "id": "e32108f998ea5de1",
   "outputs": [
    {
     "data": {
      "text/plain": [
       "(708, 6904)"
      ]
     },
     "execution_count": 11,
     "metadata": {},
     "output_type": "execute_result"
    }
   ],
   "execution_count": 11
  },
  {
   "metadata": {
    "ExecuteTime": {
     "end_time": "2025-05-20T20:44:53.146473Z",
     "start_time": "2025-05-20T20:44:53.143014Z"
    }
   },
   "cell_type": "code",
   "source": "meta_exp.shape",
   "id": "31d42c7aa1ef2cc0",
   "outputs": [
    {
     "data": {
      "text/plain": [
       "(620, 409)"
      ]
     },
     "execution_count": 12,
     "metadata": {},
     "output_type": "execute_result"
    }
   ],
   "execution_count": 12
  },
  {
   "metadata": {
    "ExecuteTime": {
     "end_time": "2025-05-20T20:44:34.452271Z",
     "start_time": "2025-05-20T20:44:34.391996Z"
    }
   },
   "cell_type": "code",
   "source": [
    "combined_outer = pd.merge(prot_exp, meta_exp, on='RID', how='outer')\n",
    "combined_outer.shape"
   ],
   "id": "35a9f2be8dc5b126",
   "outputs": [
    {
     "data": {
      "text/plain": [
       "(723, 7312)"
      ]
     },
     "execution_count": 9,
     "metadata": {},
     "output_type": "execute_result"
    }
   ],
   "execution_count": 9
  },
  {
   "metadata": {
    "ExecuteTime": {
     "end_time": "2025-05-20T20:44:35.409744Z",
     "start_time": "2025-05-20T20:44:35.386986Z"
    }
   },
   "cell_type": "code",
   "source": [
    "combined_inner = pd.merge(prot_exp, meta_exp, on='RID', how='inner')\n",
    "combined_inner.shape"
   ],
   "id": "4554f5193120e356",
   "outputs": [
    {
     "data": {
      "text/plain": [
       "(605, 7312)"
      ]
     },
     "execution_count": 10,
     "metadata": {},
     "output_type": "execute_result"
    }
   ],
   "execution_count": 10
  },
  {
   "metadata": {
    "ExecuteTime": {
     "end_time": "2025-05-20T20:45:05.763161Z",
     "start_time": "2025-05-20T20:45:03.043701Z"
    }
   },
   "cell_type": "code",
   "source": "combined_inner.to_csv('SourceData/combined_exp_data.csv', index=False)",
   "id": "9288062eaac3198a",
   "outputs": [],
   "execution_count": 13
  }
 ],
 "metadata": {
  "kernelspec": {
   "display_name": "Python 3",
   "language": "python",
   "name": "python3"
  },
  "language_info": {
   "codemirror_mode": {
    "name": "ipython",
    "version": 2
   },
   "file_extension": ".py",
   "mimetype": "text/x-python",
   "name": "python",
   "nbconvert_exporter": "python",
   "pygments_lexer": "ipython2",
   "version": "2.7.6"
  }
 },
 "nbformat": 4,
 "nbformat_minor": 5
}
